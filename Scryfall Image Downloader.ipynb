{
 "cells": [
  {
   "cell_type": "code",
   "execution_count": 11,
   "id": "d093f53b",
   "metadata": {},
   "outputs": [
    {
     "name": "stdout",
     "output_type": "stream",
     "text": [
      "Writing files to E:\\Users\\Jarod\\Stuff\\Project Stuff\\Magic Project\\art\n",
      "Starting at: 2023-08-09 10:29:41.720504\n",
      "Finished at 2023-08-09 11:58:26.528155. Elapsed time: 1:28:44.807651\n"
     ]
    }
   ],
   "source": [
    "import json, requests, os, re, datetime\n",
    "\n",
    "basic_land_types = ['Plains', 'Island', 'Swamp', 'Mountain', 'Forest']\n",
    "     \n",
    "def getValidFilename(s): #makes a \"good\" filename to save the file (removes spaces and slashes, etc).\n",
    "    s = str(s).strip().replace(' ', '_')\n",
    "    return re.sub(r'(?u)[^-\\w.]', '', s)\n",
    "\n",
    "\n",
    "def checkdir(dir_path): #checks if the directory for the set already exists. If not it creates it.\n",
    "    if not os.path.isdir(dir_path):\n",
    "        os.makedirs(dir_path)\n",
    "\n",
    "        \n",
    "def getSetCode(s): #Another option to label sets by their 3 letter designation wrapped in parenthesis i.e., (M19)\n",
    "    return \"(\" + str(s).upper() + \")\"\n",
    "\n",
    "\n",
    "def writefile(url, file_path): #checks if the file already exists. If not it downloads the image and creates the file.\n",
    "    if not os.path.isfile(file_path):\n",
    "        r = requests.get(url)\n",
    "        open(file_path, 'wb').write(r.content)\n",
    "\n",
    "\n",
    "def getUniqueArtData(): #downloads the current unique-artwork.json file from scryfall. Just reads to memory, doesn't save it to a file.\n",
    "                       #this part takes a while. If you're running the script and don't see any files being written for a bit, wait longer.\n",
    "    request_url = requests.get('https://api.scryfall.com/bulk-data')\n",
    "    request_data = requests.get(request_url.json()['data'][1]['download_uri'])\n",
    "    return request_data.json()\n",
    " \n",
    "start=datetime.datetime.now()\n",
    "print(\"Writing files to \" + os.path.join(os.getcwd(), \"art\"))\n",
    " \n",
    "print(\"Starting at: \" + str(start))\n",
    " \n",
    "for card in getUniqueArtData(): #reads each card in the all-cards file\n",
    "    if card['lang'] == 'en' and card['set_type'] in ['core', 'expansion', 'draft_innovation'] and card['name'] not in basic_land_types: \n",
    "            #checks if it's an english card from a standard set (or supplementary) and not a basic land.\n",
    "            #see all set types: https://scryfall.com/docs/api/sets\n",
    "        dir_path = \"art\\\\\" + getValidFilename(card['set_name']) \n",
    "        #+ getSetCode(card['set'])\n",
    "        checkdir(dir_path) #creates the set directory if it doesn't already exist\n",
    "        if 'image_uris' in card: #if it's a regular card, writes the file\n",
    "            file_path = dir_path + \"\\\\\" + getValidFilename(card['name']) + '.png'\n",
    "            writefile(card['image_uris']['border_crop'],file_path)\n",
    "        else: #if it's a twosided card, writes both sides\n",
    "            if card['type_line'] != 'Card // Card': \n",
    "                    #if the type is not \"Card // Card\" (scryfall has a weird cases where both sides are the same that act weird, ignoring these)\n",
    "                file_path = dir_path + \"\\\\\" + getValidFilename(card['card_faces'][0]['name']) + '_front.png'\n",
    "                writefile(card['card_faces'][0]['image_uris']['border_crop'],file_path)\n",
    "                file_path = dir_path + \"\\\\\" + getValidFilename(card['card_faces'][0]['name']) + '_rear.png'\n",
    "                writefile(card['card_faces'][1]['image_uris']['border_crop'],file_path)\n",
    "                    \n",
    "end=datetime.datetime.now()\n",
    "print(\"Finished at \" + str(end) + \". Elapsed time: \" + str(end-start))"
   ]
  }
 ],
 "metadata": {
  "kernelspec": {
   "display_name": "envs",
   "language": "python",
   "name": "envs"
  },
  "language_info": {
   "codemirror_mode": {
    "name": "ipython",
    "version": 3
   },
   "file_extension": ".py",
   "mimetype": "text/x-python",
   "name": "python",
   "nbconvert_exporter": "python",
   "pygments_lexer": "ipython3",
   "version": "3.9.17"
  }
 },
 "nbformat": 4,
 "nbformat_minor": 5
}
